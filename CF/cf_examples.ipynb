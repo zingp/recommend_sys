{
 "cells": [
  {
   "cell_type": "markdown",
   "source": [
    "**Examples of Collaborative Filtering based Recommendation Systems**"
   ],
   "metadata": {}
  },
  {
   "cell_type": "code",
   "execution_count": 1,
   "source": [
    "import numpy as np\n",
    "import pandas as pd\n",
    "import matplotlib.pyplot as plt\n",
    "import sklearn.metrics as metrics\n",
    "import numpy as np\n",
    "from sklearn.neighbors import NearestNeighbors\n",
    "from scipy.spatial.distance import correlation, cosine\n",
    "import ipywidgets as widgets\n",
    "from IPython.display import display, clear_output\n",
    "from sklearn.metrics import pairwise_distances\n",
    "from sklearn.metrics import mean_squared_error\n",
    "from math import sqrt\n",
    "import sys, os\n",
    "from contextlib import contextmanager"
   ],
   "outputs": [],
   "metadata": {
    "collapsed": true
   }
  },
  {
   "cell_type": "code",
   "execution_count": 2,
   "source": [
    "# M 是 user-item 评分矩阵， 其中评分是1-10的整数\n",
    "M = np.asarray([[3, 7, 4, 9, 9, 7], \n",
    "                [7, 0, 5, 3, 8, 8],\n",
    "                [7, 5, 5, 0, 8, 4],\n",
    "                [5, 6, 8, 5, 9, 8],\n",
    "                [5, 8, 8, 8, 10, 9],\n",
    "                [7, 7, 0, 4, 7, 8]])\n",
    "M = pd.DataFrame(M)\n",
    "\n",
    "# 定义全局变量 k, metric 后续可以被user 改变\n",
    "global k, metric\n",
    "k = 4\n",
    "# 相关性相似度\n",
    "metric = 'cosine' "
   ],
   "outputs": [],
   "metadata": {
    "collapsed": true
   }
  },
  {
   "cell_type": "code",
   "execution_count": 3,
   "source": [
    "M"
   ],
   "outputs": [
    {
     "output_type": "execute_result",
     "data": {
      "text/plain": [
       "   0  1  2  3   4  5\n",
       "0  3  7  4  9   9  7\n",
       "1  7  0  5  3   8  8\n",
       "2  7  5  5  0   8  4\n",
       "3  5  6  8  5   9  8\n",
       "4  5  8  8  8  10  9\n",
       "5  7  7  0  4   7  8"
      ],
      "text/html": [
       "<div>\n",
       "<style scoped>\n",
       "    .dataframe tbody tr th:only-of-type {\n",
       "        vertical-align: middle;\n",
       "    }\n",
       "\n",
       "    .dataframe tbody tr th {\n",
       "        vertical-align: top;\n",
       "    }\n",
       "\n",
       "    .dataframe thead th {\n",
       "        text-align: right;\n",
       "    }\n",
       "</style>\n",
       "<table border=\"1\" class=\"dataframe\">\n",
       "  <thead>\n",
       "    <tr style=\"text-align: right;\">\n",
       "      <th></th>\n",
       "      <th>0</th>\n",
       "      <th>1</th>\n",
       "      <th>2</th>\n",
       "      <th>3</th>\n",
       "      <th>4</th>\n",
       "      <th>5</th>\n",
       "    </tr>\n",
       "  </thead>\n",
       "  <tbody>\n",
       "    <tr>\n",
       "      <th>0</th>\n",
       "      <td>3</td>\n",
       "      <td>7</td>\n",
       "      <td>4</td>\n",
       "      <td>9</td>\n",
       "      <td>9</td>\n",
       "      <td>7</td>\n",
       "    </tr>\n",
       "    <tr>\n",
       "      <th>1</th>\n",
       "      <td>7</td>\n",
       "      <td>0</td>\n",
       "      <td>5</td>\n",
       "      <td>3</td>\n",
       "      <td>8</td>\n",
       "      <td>8</td>\n",
       "    </tr>\n",
       "    <tr>\n",
       "      <th>2</th>\n",
       "      <td>7</td>\n",
       "      <td>5</td>\n",
       "      <td>5</td>\n",
       "      <td>0</td>\n",
       "      <td>8</td>\n",
       "      <td>4</td>\n",
       "    </tr>\n",
       "    <tr>\n",
       "      <th>3</th>\n",
       "      <td>5</td>\n",
       "      <td>6</td>\n",
       "      <td>8</td>\n",
       "      <td>5</td>\n",
       "      <td>9</td>\n",
       "      <td>8</td>\n",
       "    </tr>\n",
       "    <tr>\n",
       "      <th>4</th>\n",
       "      <td>5</td>\n",
       "      <td>8</td>\n",
       "      <td>8</td>\n",
       "      <td>8</td>\n",
       "      <td>10</td>\n",
       "      <td>9</td>\n",
       "    </tr>\n",
       "    <tr>\n",
       "      <th>5</th>\n",
       "      <td>7</td>\n",
       "      <td>7</td>\n",
       "      <td>0</td>\n",
       "      <td>4</td>\n",
       "      <td>7</td>\n",
       "      <td>8</td>\n",
       "    </tr>\n",
       "  </tbody>\n",
       "</table>\n",
       "</div>"
      ]
     },
     "metadata": {},
     "execution_count": 3
    }
   ],
   "metadata": {}
  },
  {
   "cell_type": "code",
   "execution_count": 4,
   "source": [
    "from sklearn.metrics.pairwise import cosine_similarity"
   ],
   "outputs": [],
   "metadata": {}
  },
  {
   "cell_type": "code",
   "execution_count": 5,
   "source": [
    "u_0 = [3, 7, 4, 9, 9, 7]\n",
    "u_1 = [7, 0, 5, 3, 8, 8]\n",
    "cosine_similarity(np.array([u_0]), np.array([u_1]))"
   ],
   "outputs": [
    {
     "output_type": "execute_result",
     "data": {
      "text/plain": [
       "array([[0.79926798]])"
      ]
     },
     "metadata": {},
     "execution_count": 5
    }
   ],
   "metadata": {}
  },
  {
   "cell_type": "markdown",
   "source": [
    "**User-based Recommendation Systems**"
   ],
   "metadata": {}
  },
  {
   "cell_type": "code",
   "execution_count": 6,
   "source": [
    "#get cosine similarities for ratings matrix M; pairwise_distances returns the distances between ratings and hence\n",
    "#similarities are obtained by subtracting distances from 1\n",
    "cosine_sim = 1 - pairwise_distances(M, metric=\"cosine\")"
   ],
   "outputs": [],
   "metadata": {
    "collapsed": true
   }
  },
  {
   "cell_type": "code",
   "execution_count": 7,
   "source": [
    "#Cosine similarity matrix\n",
    "pd.DataFrame(cosine_sim)"
   ],
   "outputs": [
    {
     "output_type": "execute_result",
     "data": {
      "text/plain": [
       "          0         1         2         3         4         5\n",
       "0  1.000000  0.799268  0.779227  0.934622  0.973890  0.884600\n",
       "1  0.799268  1.000000  0.874744  0.905850  0.866146  0.827036\n",
       "2  0.779227  0.874744  1.000000  0.909513  0.865454  0.853275\n",
       "3  0.934622  0.905850  0.909513  1.000000  0.989344  0.865614\n",
       "4  0.973890  0.866146  0.865454  0.989344  1.000000  0.881640\n",
       "5  0.884600  0.827036  0.853275  0.865614  0.881640  1.000000"
      ],
      "text/html": [
       "<div>\n",
       "<style scoped>\n",
       "    .dataframe tbody tr th:only-of-type {\n",
       "        vertical-align: middle;\n",
       "    }\n",
       "\n",
       "    .dataframe tbody tr th {\n",
       "        vertical-align: top;\n",
       "    }\n",
       "\n",
       "    .dataframe thead th {\n",
       "        text-align: right;\n",
       "    }\n",
       "</style>\n",
       "<table border=\"1\" class=\"dataframe\">\n",
       "  <thead>\n",
       "    <tr style=\"text-align: right;\">\n",
       "      <th></th>\n",
       "      <th>0</th>\n",
       "      <th>1</th>\n",
       "      <th>2</th>\n",
       "      <th>3</th>\n",
       "      <th>4</th>\n",
       "      <th>5</th>\n",
       "    </tr>\n",
       "  </thead>\n",
       "  <tbody>\n",
       "    <tr>\n",
       "      <th>0</th>\n",
       "      <td>1.000000</td>\n",
       "      <td>0.799268</td>\n",
       "      <td>0.779227</td>\n",
       "      <td>0.934622</td>\n",
       "      <td>0.973890</td>\n",
       "      <td>0.884600</td>\n",
       "    </tr>\n",
       "    <tr>\n",
       "      <th>1</th>\n",
       "      <td>0.799268</td>\n",
       "      <td>1.000000</td>\n",
       "      <td>0.874744</td>\n",
       "      <td>0.905850</td>\n",
       "      <td>0.866146</td>\n",
       "      <td>0.827036</td>\n",
       "    </tr>\n",
       "    <tr>\n",
       "      <th>2</th>\n",
       "      <td>0.779227</td>\n",
       "      <td>0.874744</td>\n",
       "      <td>1.000000</td>\n",
       "      <td>0.909513</td>\n",
       "      <td>0.865454</td>\n",
       "      <td>0.853275</td>\n",
       "    </tr>\n",
       "    <tr>\n",
       "      <th>3</th>\n",
       "      <td>0.934622</td>\n",
       "      <td>0.905850</td>\n",
       "      <td>0.909513</td>\n",
       "      <td>1.000000</td>\n",
       "      <td>0.989344</td>\n",
       "      <td>0.865614</td>\n",
       "    </tr>\n",
       "    <tr>\n",
       "      <th>4</th>\n",
       "      <td>0.973890</td>\n",
       "      <td>0.866146</td>\n",
       "      <td>0.865454</td>\n",
       "      <td>0.989344</td>\n",
       "      <td>1.000000</td>\n",
       "      <td>0.881640</td>\n",
       "    </tr>\n",
       "    <tr>\n",
       "      <th>5</th>\n",
       "      <td>0.884600</td>\n",
       "      <td>0.827036</td>\n",
       "      <td>0.853275</td>\n",
       "      <td>0.865614</td>\n",
       "      <td>0.881640</td>\n",
       "      <td>1.000000</td>\n",
       "    </tr>\n",
       "  </tbody>\n",
       "</table>\n",
       "</div>"
      ]
     },
     "metadata": {},
     "execution_count": 7
    }
   ],
   "metadata": {}
  },
  {
   "cell_type": "code",
   "execution_count": 8,
   "source": [
    "M"
   ],
   "outputs": [
    {
     "output_type": "execute_result",
     "data": {
      "text/plain": [
       "   0  1  2  3   4  5\n",
       "0  3  7  4  9   9  7\n",
       "1  7  0  5  3   8  8\n",
       "2  7  5  5  0   8  4\n",
       "3  5  6  8  5   9  8\n",
       "4  5  8  8  8  10  9\n",
       "5  7  7  0  4   7  8"
      ],
      "text/html": [
       "<div>\n",
       "<style scoped>\n",
       "    .dataframe tbody tr th:only-of-type {\n",
       "        vertical-align: middle;\n",
       "    }\n",
       "\n",
       "    .dataframe tbody tr th {\n",
       "        vertical-align: top;\n",
       "    }\n",
       "\n",
       "    .dataframe thead th {\n",
       "        text-align: right;\n",
       "    }\n",
       "</style>\n",
       "<table border=\"1\" class=\"dataframe\">\n",
       "  <thead>\n",
       "    <tr style=\"text-align: right;\">\n",
       "      <th></th>\n",
       "      <th>0</th>\n",
       "      <th>1</th>\n",
       "      <th>2</th>\n",
       "      <th>3</th>\n",
       "      <th>4</th>\n",
       "      <th>5</th>\n",
       "    </tr>\n",
       "  </thead>\n",
       "  <tbody>\n",
       "    <tr>\n",
       "      <th>0</th>\n",
       "      <td>3</td>\n",
       "      <td>7</td>\n",
       "      <td>4</td>\n",
       "      <td>9</td>\n",
       "      <td>9</td>\n",
       "      <td>7</td>\n",
       "    </tr>\n",
       "    <tr>\n",
       "      <th>1</th>\n",
       "      <td>7</td>\n",
       "      <td>0</td>\n",
       "      <td>5</td>\n",
       "      <td>3</td>\n",
       "      <td>8</td>\n",
       "      <td>8</td>\n",
       "    </tr>\n",
       "    <tr>\n",
       "      <th>2</th>\n",
       "      <td>7</td>\n",
       "      <td>5</td>\n",
       "      <td>5</td>\n",
       "      <td>0</td>\n",
       "      <td>8</td>\n",
       "      <td>4</td>\n",
       "    </tr>\n",
       "    <tr>\n",
       "      <th>3</th>\n",
       "      <td>5</td>\n",
       "      <td>6</td>\n",
       "      <td>8</td>\n",
       "      <td>5</td>\n",
       "      <td>9</td>\n",
       "      <td>8</td>\n",
       "    </tr>\n",
       "    <tr>\n",
       "      <th>4</th>\n",
       "      <td>5</td>\n",
       "      <td>8</td>\n",
       "      <td>8</td>\n",
       "      <td>8</td>\n",
       "      <td>10</td>\n",
       "      <td>9</td>\n",
       "    </tr>\n",
       "    <tr>\n",
       "      <th>5</th>\n",
       "      <td>7</td>\n",
       "      <td>7</td>\n",
       "      <td>0</td>\n",
       "      <td>4</td>\n",
       "      <td>7</td>\n",
       "      <td>8</td>\n",
       "    </tr>\n",
       "  </tbody>\n",
       "</table>\n",
       "</div>"
      ]
     },
     "metadata": {},
     "execution_count": 8
    }
   ],
   "metadata": {}
  },
  {
   "cell_type": "code",
   "execution_count": 9,
   "source": [
    "#get pearson similarities for ratings matrix M\n",
    "pearson_sim = 1 - pairwise_distances(M, metric=\"correlation\")"
   ],
   "outputs": [],
   "metadata": {
    "collapsed": true
   }
  },
  {
   "cell_type": "code",
   "execution_count": 10,
   "source": [
    "#Pearson correlation similarity matrix\n",
    "pd.DataFrame(pearson_sim)"
   ],
   "outputs": [
    {
     "output_type": "execute_result",
     "data": {
      "text/plain": [
       "          0         1         2         3         4         5\n",
       "0  1.000000 -0.137446 -0.357398  0.208179  0.761905  0.277350\n",
       "1 -0.137446  1.000000  0.453897  0.515910  0.112456  0.218328\n",
       "2 -0.357398  0.453897  1.000000  0.451378 -0.042888  0.297373\n",
       "3  0.208179  0.515910  0.451378  1.000000  0.763325 -0.057739\n",
       "4  0.761905  0.112456 -0.042888  0.763325  1.000000  0.039621\n",
       "5  0.277350  0.218328  0.297373 -0.057739  0.039621  1.000000"
      ],
      "text/html": [
       "<div>\n",
       "<style scoped>\n",
       "    .dataframe tbody tr th:only-of-type {\n",
       "        vertical-align: middle;\n",
       "    }\n",
       "\n",
       "    .dataframe tbody tr th {\n",
       "        vertical-align: top;\n",
       "    }\n",
       "\n",
       "    .dataframe thead th {\n",
       "        text-align: right;\n",
       "    }\n",
       "</style>\n",
       "<table border=\"1\" class=\"dataframe\">\n",
       "  <thead>\n",
       "    <tr style=\"text-align: right;\">\n",
       "      <th></th>\n",
       "      <th>0</th>\n",
       "      <th>1</th>\n",
       "      <th>2</th>\n",
       "      <th>3</th>\n",
       "      <th>4</th>\n",
       "      <th>5</th>\n",
       "    </tr>\n",
       "  </thead>\n",
       "  <tbody>\n",
       "    <tr>\n",
       "      <th>0</th>\n",
       "      <td>1.000000</td>\n",
       "      <td>-0.137446</td>\n",
       "      <td>-0.357398</td>\n",
       "      <td>0.208179</td>\n",
       "      <td>0.761905</td>\n",
       "      <td>0.277350</td>\n",
       "    </tr>\n",
       "    <tr>\n",
       "      <th>1</th>\n",
       "      <td>-0.137446</td>\n",
       "      <td>1.000000</td>\n",
       "      <td>0.453897</td>\n",
       "      <td>0.515910</td>\n",
       "      <td>0.112456</td>\n",
       "      <td>0.218328</td>\n",
       "    </tr>\n",
       "    <tr>\n",
       "      <th>2</th>\n",
       "      <td>-0.357398</td>\n",
       "      <td>0.453897</td>\n",
       "      <td>1.000000</td>\n",
       "      <td>0.451378</td>\n",
       "      <td>-0.042888</td>\n",
       "      <td>0.297373</td>\n",
       "    </tr>\n",
       "    <tr>\n",
       "      <th>3</th>\n",
       "      <td>0.208179</td>\n",
       "      <td>0.515910</td>\n",
       "      <td>0.451378</td>\n",
       "      <td>1.000000</td>\n",
       "      <td>0.763325</td>\n",
       "      <td>-0.057739</td>\n",
       "    </tr>\n",
       "    <tr>\n",
       "      <th>4</th>\n",
       "      <td>0.761905</td>\n",
       "      <td>0.112456</td>\n",
       "      <td>-0.042888</td>\n",
       "      <td>0.763325</td>\n",
       "      <td>1.000000</td>\n",
       "      <td>0.039621</td>\n",
       "    </tr>\n",
       "    <tr>\n",
       "      <th>5</th>\n",
       "      <td>0.277350</td>\n",
       "      <td>0.218328</td>\n",
       "      <td>0.297373</td>\n",
       "      <td>-0.057739</td>\n",
       "      <td>0.039621</td>\n",
       "      <td>1.000000</td>\n",
       "    </tr>\n",
       "  </tbody>\n",
       "</table>\n",
       "</div>"
      ]
     },
     "metadata": {},
     "execution_count": 10
    }
   ],
   "metadata": {}
  },
  {
   "cell_type": "code",
   "execution_count": 11,
   "source": [
    "# This function finds k similar users given the user_id and ratings matrix M\n",
    "# Note that the similarities are same as obtained via using pairwise_distances\n",
    "def findksimilarusers(user_id, ratings, metric=metric, k=k):\n",
    "    similarities=[]\n",
    "    indices=[]\n",
    "    model_knn = NearestNeighbors(metric = metric, algorithm = 'brute') \n",
    "    model_knn.fit(ratings)\n",
    "\n",
    "    distances, indices = model_knn.kneighbors(ratings.iloc[user_id-1, :].values.reshape(1, -1), n_neighbors = k+1)\n",
    "    similarities = 1 - distances.flatten()\n",
    "    print('{0} most similar users for User {1}:\\n'.format(k,user_id))\n",
    "    for i in range(0, len(indices.flatten())):\n",
    "        if indices.flatten()[i]+1 == user_id:\n",
    "            continue\n",
    "        else:\n",
    "            print('{0}: User {1}, with similarity of {2}'.format(i, indices.flatten()[i]+1, similarities.flatten()[i]))\n",
    "    return similarities, indices"
   ],
   "outputs": [],
   "metadata": {}
  },
  {
   "cell_type": "code",
   "execution_count": 13,
   "source": [
    "M"
   ],
   "outputs": [
    {
     "output_type": "execute_result",
     "data": {
      "text/plain": [
       "   0  1  2  3   4  5\n",
       "0  3  7  4  9   9  7\n",
       "1  7  0  5  3   8  8\n",
       "2  7  5  5  0   8  4\n",
       "3  5  6  8  5   9  8\n",
       "4  5  8  8  8  10  9\n",
       "5  7  7  0  4   7  8"
      ],
      "text/html": [
       "<div>\n",
       "<style scoped>\n",
       "    .dataframe tbody tr th:only-of-type {\n",
       "        vertical-align: middle;\n",
       "    }\n",
       "\n",
       "    .dataframe tbody tr th {\n",
       "        vertical-align: top;\n",
       "    }\n",
       "\n",
       "    .dataframe thead th {\n",
       "        text-align: right;\n",
       "    }\n",
       "</style>\n",
       "<table border=\"1\" class=\"dataframe\">\n",
       "  <thead>\n",
       "    <tr style=\"text-align: right;\">\n",
       "      <th></th>\n",
       "      <th>0</th>\n",
       "      <th>1</th>\n",
       "      <th>2</th>\n",
       "      <th>3</th>\n",
       "      <th>4</th>\n",
       "      <th>5</th>\n",
       "    </tr>\n",
       "  </thead>\n",
       "  <tbody>\n",
       "    <tr>\n",
       "      <th>0</th>\n",
       "      <td>3</td>\n",
       "      <td>7</td>\n",
       "      <td>4</td>\n",
       "      <td>9</td>\n",
       "      <td>9</td>\n",
       "      <td>7</td>\n",
       "    </tr>\n",
       "    <tr>\n",
       "      <th>1</th>\n",
       "      <td>7</td>\n",
       "      <td>0</td>\n",
       "      <td>5</td>\n",
       "      <td>3</td>\n",
       "      <td>8</td>\n",
       "      <td>8</td>\n",
       "    </tr>\n",
       "    <tr>\n",
       "      <th>2</th>\n",
       "      <td>7</td>\n",
       "      <td>5</td>\n",
       "      <td>5</td>\n",
       "      <td>0</td>\n",
       "      <td>8</td>\n",
       "      <td>4</td>\n",
       "    </tr>\n",
       "    <tr>\n",
       "      <th>3</th>\n",
       "      <td>5</td>\n",
       "      <td>6</td>\n",
       "      <td>8</td>\n",
       "      <td>5</td>\n",
       "      <td>9</td>\n",
       "      <td>8</td>\n",
       "    </tr>\n",
       "    <tr>\n",
       "      <th>4</th>\n",
       "      <td>5</td>\n",
       "      <td>8</td>\n",
       "      <td>8</td>\n",
       "      <td>8</td>\n",
       "      <td>10</td>\n",
       "      <td>9</td>\n",
       "    </tr>\n",
       "    <tr>\n",
       "      <th>5</th>\n",
       "      <td>7</td>\n",
       "      <td>7</td>\n",
       "      <td>0</td>\n",
       "      <td>4</td>\n",
       "      <td>7</td>\n",
       "      <td>8</td>\n",
       "    </tr>\n",
       "  </tbody>\n",
       "</table>\n",
       "</div>"
      ]
     },
     "metadata": {},
     "execution_count": 13
    }
   ],
   "metadata": {}
  },
  {
   "cell_type": "code",
   "execution_count": 12,
   "source": [
    "similarities, indices = findksimilarusers(1, M, metric='cosine')"
   ],
   "outputs": [
    {
     "output_type": "stream",
     "name": "stdout",
     "text": [
      "4 most similar users for User 1:\n",
      "\n",
      "1: User 5, with similarity of 0.9738899354018394\n",
      "2: User 4, with similarity of 0.934621684178377\n",
      "3: User 6, with similarity of 0.8846004572297814\n",
      "4: User 2, with similarity of 0.7992679780524186\n"
     ]
    }
   ],
   "metadata": {}
  },
  {
   "cell_type": "code",
   "execution_count": 14,
   "source": [
    "similarities,indices = findksimilarusers(1, M, metric='correlation')"
   ],
   "outputs": [
    {
     "output_type": "stream",
     "name": "stdout",
     "text": [
      "4 most similar users for User 1:\n",
      "\n",
      "1: User 5, with similarity of 0.7619047619047619\n",
      "2: User 6, with similarity of 0.2773500981126146\n",
      "3: User 4, with similarity of 0.20817945092665124\n",
      "4: User 2, with similarity of -0.13744632051327743\n"
     ]
    }
   ],
   "metadata": {
    "scrolled": true
   }
  },
  {
   "cell_type": "code",
   "execution_count": null,
   "source": [
    "#This function predicts rating for specified user-item combination based on user-based approach\n",
    "def predict_userbased(user_id, item_id, ratings, metric = metric, k=k):\n",
    "    prediction=0\n",
    "    similarities, indices=findksimilarusers(user_id, ratings,metric, k) #similar users based on cosine similarity\n",
    "    mean_rating = ratings.loc[user_id-1,:].mean() #to adjust for zero based indexing\n",
    "    sum_wt = np.sum(similarities)-1\n",
    "    product=1\n",
    "    wtd_sum = 0 \n",
    "    \n",
    "    for i in range(0, len(indices.flatten())):\n",
    "        if indices.flatten()[i]+1 == user_id:\n",
    "            continue\n",
    "        else: \n",
    "            ratings_diff = ratings.iloc[indices.flatten()[i],item_id-1]-np.mean(ratings.iloc[indices.flatten()[i],:])\n",
    "            product = ratings_diff * (similarities[i])\n",
    "            wtd_sum = wtd_sum + product\n",
    "    prediction = int(round(mean_rating + (wtd_sum/sum_wt)))\n",
    "    print('\\nPredicted rating for user {0} -> item {1}: {2}'.format(user_id,item_id,prediction))\n",
    "\n",
    "    return prediction"
   ],
   "outputs": [],
   "metadata": {
    "collapsed": true
   }
  },
  {
   "cell_type": "code",
   "execution_count": null,
   "source": [
    "predict_userbased(3, 4, M);"
   ],
   "outputs": [
    {
     "output_type": "stream",
     "name": "stdout",
     "text": [
      "4 most similar users for User 3:\n",
      "\n",
      "1: User 4, with similarity of 0.90951268934\n",
      "2: User 2, with similarity of 0.874744414849\n",
      "3: User 5, with similarity of 0.86545387815\n",
      "4: User 6, with similarity of 0.853274963344\n",
      "\n",
      "Predicted rating for user 3 -> item 4: 3\n"
     ]
    }
   ],
   "metadata": {}
  },
  {
   "cell_type": "markdown",
   "source": [
    "**Item-based Recommendation Systems**"
   ],
   "metadata": {}
  },
  {
   "cell_type": "code",
   "execution_count": 21,
   "source": [
    "#This function finds k similar items given the item_id and ratings matrix M\n",
    "\n",
    "def findksimilaritems(item_id, ratings, metric=metric, k=k):\n",
    "    similarities = []\n",
    "    indices = []    \n",
    "    ratings = ratings.T\n",
    "    model_knn = NearestNeighbors(metric = metric, algorithm = 'brute')\n",
    "    model_knn.fit(ratings)\n",
    "\n",
    "    distances, indices = model_knn.kneighbors(ratings.iloc[item_id-1, :].values.reshape(1, -1), n_neighbors = k+1)\n",
    "    similarities = 1 - distances.flatten()\n",
    "    print('{0} most similar items for item {1}:\\n'.format(k,item_id))\n",
    "    for i in range(0, len(indices.flatten())):\n",
    "        if indices.flatten()[i]+1 == item_id:\n",
    "            continue;\n",
    "\n",
    "        else:\n",
    "            print('{0}: Item {1} :, with similarity of {2}'.format(i,indices.flatten()[i]+1, similarities.flatten()[i]))\n",
    "\n",
    "\n",
    "    return similarities,indices"
   ],
   "outputs": [],
   "metadata": {
    "collapsed": true
   }
  },
  {
   "cell_type": "code",
   "execution_count": 22,
   "source": [
    "similarities, indices = findksimilaritems(3, M)"
   ],
   "outputs": [
    {
     "output_type": "stream",
     "name": "stdout",
     "text": [
      "4 most similar items for item 3:\n",
      "\n",
      "1: Item 5 :, with similarity of 0.9183361255345219\n",
      "2: Item 6 :, with similarity of 0.8747597730381951\n",
      "3: Item 1 :, with similarity of 0.8103647462221737\n",
      "4: Item 4 :, with similarity of 0.7969178003023933\n"
     ]
    }
   ],
   "metadata": {}
  },
  {
   "cell_type": "code",
   "execution_count": 23,
   "source": [
    "#This function predicts the rating for specified user-item combination based on item-based approach\n",
    "def predict_itembased(user_id, item_id, ratings, metric = metric, k=k):\n",
    "    prediction = wtd_sum =0\n",
    "    similarities, indices=findksimilaritems(item_id, ratings) #similar users based on correlation coefficients\n",
    "    sum_wt = np.sum(similarities)-1\n",
    "    product=1\n",
    "    \n",
    "    for i in range(0, len(indices.flatten())):\n",
    "        if indices.flatten()[i] + 1 == item_id:\n",
    "            continue;\n",
    "        else:\n",
    "            product = ratings.iloc[user_id-1,indices.flatten()[i]] * (similarities[i])\n",
    "            wtd_sum = wtd_sum + product                              \n",
    "    prediction = int(round(wtd_sum/sum_wt))\n",
    "    print('\\nPredicted rating for user {0} -> item {1}: {2}'.format(user_id,item_id,prediction)) \n",
    "\n",
    "    return prediction"
   ],
   "outputs": [],
   "metadata": {
    "collapsed": true
   }
  },
  {
   "cell_type": "code",
   "execution_count": 24,
   "source": [
    "prediction = predict_itembased(1, 3, M)"
   ],
   "outputs": [
    {
     "output_type": "stream",
     "name": "stdout",
     "text": [
      "4 most similar items for item 3:\n",
      "\n",
      "1: Item 5 :, with similarity of 0.9183361255345219\n",
      "2: Item 6 :, with similarity of 0.8747597730381951\n",
      "3: Item 1 :, with similarity of 0.8103647462221737\n",
      "4: Item 4 :, with similarity of 0.7969178003023933\n",
      "\n",
      "Predicted rating for user 1 -> item 3: 7\n"
     ]
    }
   ],
   "metadata": {}
  },
  {
   "cell_type": "code",
   "execution_count": 27,
   "source": [
    "#This function is used to compute adjusted cosine similarity matrix for items\n",
    "def computeAdjCosSim(M):\n",
    "    sim_matrix = np.zeros((M.shape[1], M.shape[1]))\n",
    "    M_u = M.mean(axis=1) # means\n",
    "    for i in range(M.shape[1]):\n",
    "        for j in range(M.shape[1]):\n",
    "            if i == j:\n",
    "                sim_matrix[i][j] = 1\n",
    "            else:                \n",
    "                if i<j:        \n",
    "                    sum_num = sum_den1 = sum_den2 = 0\n",
    "                    for k,row in M.loc[:,[i,j]].iterrows(): \n",
    "                        if ((M.loc[k,i] != 0) & (M.loc[k,j] != 0)):\n",
    "                            num = (M[i][k]-M_u[k]) * (M[j][k]-M_u[k])\n",
    "                            den1= (M[i][k]-M_u[k]) ** 2\n",
    "                            den2= (M[j][k]-M_u[k]) ** 2\n",
    "                            sum_num = sum_num + num\n",
    "                            sum_den1 = sum_den1 + den1\n",
    "                            sum_den2 = sum_den2 + den2\n",
    "                        else:\n",
    "                            continue       \n",
    "                    den=(sum_den1**0.5)*(sum_den2 ** 0.5)\n",
    "                    if den!=0:\n",
    "                        sim_matrix[i][j] = sum_num/den\n",
    "                    else:\n",
    "                        sim_matrix[i][j] = 0\n",
    "                else:\n",
    "                    sim_matrix[i][j] = sim_matrix[j][i]                \n",
    "    return pd.DataFrame(sim_matrix)"
   ],
   "outputs": [],
   "metadata": {
    "collapsed": true
   }
  },
  {
   "cell_type": "code",
   "execution_count": 28,
   "source": [
    "adjcos_sim = computeAdjCosSim(M)"
   ],
   "outputs": [],
   "metadata": {
    "collapsed": true
   }
  },
  {
   "cell_type": "code",
   "execution_count": 29,
   "source": [
    "adjcos_sim"
   ],
   "outputs": [
    {
     "output_type": "execute_result",
     "data": {
      "text/plain": [
       "          0         1         2         3         4         5\n",
       "0  1.000000  0.236908  0.421263 -0.519085 -0.125892  0.010090\n",
       "1  0.236908  1.000000 -0.805243  0.085741  0.237273  0.520625\n",
       "2  0.421263 -0.805243  1.000000 -0.767941 -0.230521 -0.053640\n",
       "3 -0.519085  0.085741 -0.767941  1.000000 -0.299059 -0.644550\n",
       "4 -0.125892  0.237273 -0.230521 -0.299059  1.000000  0.599158\n",
       "5  0.010090  0.520625 -0.053640 -0.644550  0.599158  1.000000"
      ],
      "text/html": [
       "<div>\n",
       "<style scoped>\n",
       "    .dataframe tbody tr th:only-of-type {\n",
       "        vertical-align: middle;\n",
       "    }\n",
       "\n",
       "    .dataframe tbody tr th {\n",
       "        vertical-align: top;\n",
       "    }\n",
       "\n",
       "    .dataframe thead th {\n",
       "        text-align: right;\n",
       "    }\n",
       "</style>\n",
       "<table border=\"1\" class=\"dataframe\">\n",
       "  <thead>\n",
       "    <tr style=\"text-align: right;\">\n",
       "      <th></th>\n",
       "      <th>0</th>\n",
       "      <th>1</th>\n",
       "      <th>2</th>\n",
       "      <th>3</th>\n",
       "      <th>4</th>\n",
       "      <th>5</th>\n",
       "    </tr>\n",
       "  </thead>\n",
       "  <tbody>\n",
       "    <tr>\n",
       "      <th>0</th>\n",
       "      <td>1.000000</td>\n",
       "      <td>0.236908</td>\n",
       "      <td>0.421263</td>\n",
       "      <td>-0.519085</td>\n",
       "      <td>-0.125892</td>\n",
       "      <td>0.010090</td>\n",
       "    </tr>\n",
       "    <tr>\n",
       "      <th>1</th>\n",
       "      <td>0.236908</td>\n",
       "      <td>1.000000</td>\n",
       "      <td>-0.805243</td>\n",
       "      <td>0.085741</td>\n",
       "      <td>0.237273</td>\n",
       "      <td>0.520625</td>\n",
       "    </tr>\n",
       "    <tr>\n",
       "      <th>2</th>\n",
       "      <td>0.421263</td>\n",
       "      <td>-0.805243</td>\n",
       "      <td>1.000000</td>\n",
       "      <td>-0.767941</td>\n",
       "      <td>-0.230521</td>\n",
       "      <td>-0.053640</td>\n",
       "    </tr>\n",
       "    <tr>\n",
       "      <th>3</th>\n",
       "      <td>-0.519085</td>\n",
       "      <td>0.085741</td>\n",
       "      <td>-0.767941</td>\n",
       "      <td>1.000000</td>\n",
       "      <td>-0.299059</td>\n",
       "      <td>-0.644550</td>\n",
       "    </tr>\n",
       "    <tr>\n",
       "      <th>4</th>\n",
       "      <td>-0.125892</td>\n",
       "      <td>0.237273</td>\n",
       "      <td>-0.230521</td>\n",
       "      <td>-0.299059</td>\n",
       "      <td>1.000000</td>\n",
       "      <td>0.599158</td>\n",
       "    </tr>\n",
       "    <tr>\n",
       "      <th>5</th>\n",
       "      <td>0.010090</td>\n",
       "      <td>0.520625</td>\n",
       "      <td>-0.053640</td>\n",
       "      <td>-0.644550</td>\n",
       "      <td>0.599158</td>\n",
       "      <td>1.000000</td>\n",
       "    </tr>\n",
       "  </tbody>\n",
       "</table>\n",
       "</div>"
      ]
     },
     "metadata": {},
     "execution_count": 29
    }
   ],
   "metadata": {}
  },
  {
   "cell_type": "code",
   "execution_count": 33,
   "source": [
    "# This function finds k similar items given the item_id and ratings matrix M\n",
    "def findksimilaritems_adjcos(item_id, ratings, k=k):\n",
    "    sim_matrix = computeAdjCosSim(ratings)\n",
    "    similarities = sim_matrix[item_id-1].sort_values(ascending=False)[:k+1].values\n",
    "    indices = sim_matrix[item_id-1].sort_values(ascending=False)[:k+1].index\n",
    "    print('{0} most similar items for item {1}:\\n'.format(k,item_id))\n",
    "    for i in range(0, len(indices)):\n",
    "        if indices[i]+1 == item_id:\n",
    "            continue\n",
    "        else:\n",
    "            print('{0}: Item {1} :, with similarity of {2}'.format(i,indices[i]+1, similarities[i]))\n",
    "    return similarities, indices    "
   ],
   "outputs": [],
   "metadata": {
    "collapsed": true
   }
  },
  {
   "cell_type": "code",
   "execution_count": 34,
   "source": [
    "similarities, indices = findksimilaritems_adjcos(3,M)"
   ],
   "outputs": [
    {
     "output_type": "stream",
     "name": "stdout",
     "text": [
      "4 most similar items for item 3:\n",
      "\n",
      "1: Item 1 :, with similarity of 0.42126273187113467\n",
      "2: Item 6 :, with similarity of -0.05363989048891138\n",
      "3: Item 5 :, with similarity of -0.2305213582693748\n",
      "4: Item 4 :, with similarity of -0.7679410465751941\n"
     ]
    }
   ],
   "metadata": {}
  },
  {
   "cell_type": "code",
   "execution_count": 36,
   "source": [
    "#This function predicts the rating for specified user-item combination for adjusted cosine item-based approach\n",
    "#As the adjusted cosine similarities range from -1,+1, sometimes the predicted rating can be negative or greater than max value\n",
    "#Hack to deal with this: Rating is set to min if prediction is negative, Rating is set to max if prediction is above max\n",
    "def predict_itembased_adjcos(user_id, item_id, ratings):\n",
    "    prediction=0\n",
    "\n",
    "    similarities, indices = findksimilaritems_adjcos(item_id, ratings) #similar users based on correlation coefficients\n",
    "    sum_wt = np.sum(similarities) - 1\n",
    "    product = 1\n",
    "    wtd_sum = 0 \n",
    "    for i in range(0, len(indices)):\n",
    "        if indices[i]+1 == item_id:\n",
    "            continue\n",
    "        else:\n",
    "            product = ratings.iloc[user_id-1,indices[i]] * (similarities[i])\n",
    "            wtd_sum = wtd_sum + product                              \n",
    "    prediction = int(round(wtd_sum/sum_wt))\n",
    "    if prediction < 0:\n",
    "        prediction = 1\n",
    "    elif prediction >10:\n",
    "        prediction = 10\n",
    "    print('\\nPredicted rating for user {0} -> item {1}: {2}'.format(user_id,item_id,prediction))   \n",
    "        \n",
    "    return prediction"
   ],
   "outputs": [],
   "metadata": {
    "collapsed": true
   }
  },
  {
   "cell_type": "code",
   "execution_count": 37,
   "source": [
    "prediction=predict_itembased_adjcos(3, 4, M)"
   ],
   "outputs": [
    {
     "output_type": "stream",
     "name": "stdout",
     "text": [
      "4 most similar items for item 4:\n",
      "\n",
      "1: Item 2 :, with similarity of 0.08574143411490752\n",
      "2: Item 5 :, with similarity of -0.2990588277904165\n",
      "3: Item 1 :, with similarity of -0.5190852688949424\n",
      "4: Item 6 :, with similarity of -0.6445502869540708\n",
      "\n",
      "Predicted rating for user 3 -> item 4: 6\n"
     ]
    }
   ],
   "metadata": {}
  },
  {
   "cell_type": "code",
   "execution_count": 38,
   "source": [
    "adjcos_sim"
   ],
   "outputs": [
    {
     "output_type": "execute_result",
     "data": {
      "text/plain": [
       "          0         1         2         3         4         5\n",
       "0  1.000000  0.236908  0.421263 -0.519085 -0.125892  0.010090\n",
       "1  0.236908  1.000000 -0.805243  0.085741  0.237273  0.520625\n",
       "2  0.421263 -0.805243  1.000000 -0.767941 -0.230521 -0.053640\n",
       "3 -0.519085  0.085741 -0.767941  1.000000 -0.299059 -0.644550\n",
       "4 -0.125892  0.237273 -0.230521 -0.299059  1.000000  0.599158\n",
       "5  0.010090  0.520625 -0.053640 -0.644550  0.599158  1.000000"
      ],
      "text/html": [
       "<div>\n",
       "<style scoped>\n",
       "    .dataframe tbody tr th:only-of-type {\n",
       "        vertical-align: middle;\n",
       "    }\n",
       "\n",
       "    .dataframe tbody tr th {\n",
       "        vertical-align: top;\n",
       "    }\n",
       "\n",
       "    .dataframe thead th {\n",
       "        text-align: right;\n",
       "    }\n",
       "</style>\n",
       "<table border=\"1\" class=\"dataframe\">\n",
       "  <thead>\n",
       "    <tr style=\"text-align: right;\">\n",
       "      <th></th>\n",
       "      <th>0</th>\n",
       "      <th>1</th>\n",
       "      <th>2</th>\n",
       "      <th>3</th>\n",
       "      <th>4</th>\n",
       "      <th>5</th>\n",
       "    </tr>\n",
       "  </thead>\n",
       "  <tbody>\n",
       "    <tr>\n",
       "      <th>0</th>\n",
       "      <td>1.000000</td>\n",
       "      <td>0.236908</td>\n",
       "      <td>0.421263</td>\n",
       "      <td>-0.519085</td>\n",
       "      <td>-0.125892</td>\n",
       "      <td>0.010090</td>\n",
       "    </tr>\n",
       "    <tr>\n",
       "      <th>1</th>\n",
       "      <td>0.236908</td>\n",
       "      <td>1.000000</td>\n",
       "      <td>-0.805243</td>\n",
       "      <td>0.085741</td>\n",
       "      <td>0.237273</td>\n",
       "      <td>0.520625</td>\n",
       "    </tr>\n",
       "    <tr>\n",
       "      <th>2</th>\n",
       "      <td>0.421263</td>\n",
       "      <td>-0.805243</td>\n",
       "      <td>1.000000</td>\n",
       "      <td>-0.767941</td>\n",
       "      <td>-0.230521</td>\n",
       "      <td>-0.053640</td>\n",
       "    </tr>\n",
       "    <tr>\n",
       "      <th>3</th>\n",
       "      <td>-0.519085</td>\n",
       "      <td>0.085741</td>\n",
       "      <td>-0.767941</td>\n",
       "      <td>1.000000</td>\n",
       "      <td>-0.299059</td>\n",
       "      <td>-0.644550</td>\n",
       "    </tr>\n",
       "    <tr>\n",
       "      <th>4</th>\n",
       "      <td>-0.125892</td>\n",
       "      <td>0.237273</td>\n",
       "      <td>-0.230521</td>\n",
       "      <td>-0.299059</td>\n",
       "      <td>1.000000</td>\n",
       "      <td>0.599158</td>\n",
       "    </tr>\n",
       "    <tr>\n",
       "      <th>5</th>\n",
       "      <td>0.010090</td>\n",
       "      <td>0.520625</td>\n",
       "      <td>-0.053640</td>\n",
       "      <td>-0.644550</td>\n",
       "      <td>0.599158</td>\n",
       "      <td>1.000000</td>\n",
       "    </tr>\n",
       "  </tbody>\n",
       "</table>\n",
       "</div>"
      ]
     },
     "metadata": {},
     "execution_count": 38
    }
   ],
   "metadata": {}
  },
  {
   "cell_type": "code",
   "execution_count": 41,
   "source": [
    "#This function utilizes above function to recommend items for selected approach. Recommendations are made if the predicted\n",
    "#rating for an item is greater than or equal to 6, and the items has not been rated already\n",
    "def recommendItem(user_id, item_id, ratings):\n",
    "    if user_id < 1 or user_id > 6 or type(user_id) is not int:\n",
    "        print('Userid does not exist. Enter numbers from 1-6')\n",
    "    else:    \n",
    "        ids = ['User-based CF (cosine)','User-based CF (correlation)','Item-based CF (cosine)',\n",
    "               'Item-based CF (adjusted cosine)']\n",
    "        approach = widgets.Dropdown(options=ids, value=ids[0],\n",
    "                               description='Select Approach', width='500px')\n",
    "        def on_change(change):\n",
    "            prediction = 0\n",
    "            clear_output(wait=True)\n",
    "            if change['type'] == 'change' and change['name'] == 'value':            \n",
    "                if (approach.value == 'User-based CF (cosine)'):\n",
    "                    metric = 'cosine'\n",
    "                    prediction = predict_userbased(user_id, item_id, ratings, metric)\n",
    "                elif (approach.value == 'User-based CF (correlation)')  :                       \n",
    "                    metric = 'correlation'               \n",
    "                    prediction = predict_userbased(user_id, item_id, ratings, metric)\n",
    "                elif (approach.value == 'Item-based CF (cosine)'):\n",
    "                    prediction = predict_itembased(user_id, item_id, ratings)\n",
    "                else:\n",
    "                    prediction = predict_itembased_adjcos(user_id,item_id,ratings)\n",
    "                if ratings[item_id-1][user_id-1] != 0: \n",
    "                    print('Item already rated')\n",
    "                else:\n",
    "                    if prediction>=6:\n",
    "                        print('\\nItem recommended')\n",
    "                    else:\n",
    "                        print('Item not recommended')\n",
    "        approach.observe(on_change)\n",
    "        display(approach)"
   ],
   "outputs": [],
   "metadata": {
    "collapsed": true
   }
  },
  {
   "cell_type": "code",
   "execution_count": 42,
   "source": [
    "#check for incorrect entries\n",
    "recommendItem(-1, 3, M)"
   ],
   "outputs": [
    {
     "output_type": "stream",
     "name": "stdout",
     "text": [
      "Userid does not exist. Enter numbers from 1-6\n"
     ]
    }
   ],
   "metadata": {}
  },
  {
   "cell_type": "code",
   "execution_count": 43,
   "source": [
    "recommendItem(3, 4, M)"
   ],
   "outputs": [
    {
     "output_type": "display_data",
     "data": {
      "text/plain": [
       "Dropdown(description='Select Approach', options=('User-based CF (cosine)', 'User-based CF (correlation)', 'Ite…"
      ],
      "application/vnd.jupyter.widget-view+json": {
       "version_major": 2,
       "version_minor": 0,
       "model_id": "fca93a95651741ceb244eb75d43664d9"
      }
     },
     "metadata": {}
    }
   ],
   "metadata": {}
  },
  {
   "cell_type": "code",
   "execution_count": 44,
   "source": [
    "recommendItem(3, 4, M)"
   ],
   "outputs": [
    {
     "output_type": "display_data",
     "data": {
      "text/plain": [
       "Dropdown(description='Select Approach', options=('User-based CF (cosine)', 'User-based CF (correlation)', 'Ite…"
      ],
      "application/vnd.jupyter.widget-view+json": {
       "version_major": 2,
       "version_minor": 0,
       "model_id": "0911904da29440a39dd1e77fc4ee6320"
      }
     },
     "metadata": {}
    }
   ],
   "metadata": {}
  },
  {
   "cell_type": "code",
   "execution_count": 45,
   "source": [
    "recommendItem(3, 4, M)"
   ],
   "outputs": [
    {
     "output_type": "display_data",
     "data": {
      "text/plain": [
       "Dropdown(description='Select Approach', options=('User-based CF (cosine)', 'User-based CF (correlation)', 'Ite…"
      ],
      "application/vnd.jupyter.widget-view+json": {
       "version_major": 2,
       "version_minor": 0,
       "model_id": "73767f7132f14b39972de70b8ed7ed8a"
      }
     },
     "metadata": {}
    }
   ],
   "metadata": {}
  },
  {
   "cell_type": "code",
   "execution_count": 46,
   "source": [
    "recommendItem(3, 4, M)"
   ],
   "outputs": [
    {
     "output_type": "display_data",
     "data": {
      "text/plain": [
       "Dropdown(description='Select Approach', options=('User-based CF (cosine)', 'User-based CF (correlation)', 'Ite…"
      ],
      "application/vnd.jupyter.widget-view+json": {
       "version_major": 2,
       "version_minor": 0,
       "model_id": "e8aaf92d15ff4096abce91a163b82c7a"
      }
     },
     "metadata": {}
    }
   ],
   "metadata": {}
  },
  {
   "cell_type": "code",
   "execution_count": 47,
   "source": [
    "# if the item is already rated, it is not recommended\n",
    "recommendItem(2, 1, M)"
   ],
   "outputs": [
    {
     "output_type": "display_data",
     "data": {
      "text/plain": [
       "Dropdown(description='Select Approach', options=('User-based CF (cosine)', 'User-based CF (correlation)', 'Ite…"
      ],
      "application/vnd.jupyter.widget-view+json": {
       "version_major": 2,
       "version_minor": 0,
       "model_id": "97f2a391fcd446dcb7066279b23c6afa"
      }
     },
     "metadata": {}
    }
   ],
   "metadata": {}
  },
  {
   "cell_type": "code",
   "execution_count": 48,
   "source": [
    "# This is a quick way to temporarily suppress stdout in particular code section\n",
    "@contextmanager\n",
    "def suppress_stdout():\n",
    "    with open(os.devnull, \"w\") as devnull:\n",
    "        old_stdout = sys.stdout\n",
    "        sys.stdout = devnull\n",
    "        try:  \n",
    "            yield\n",
    "        finally:\n",
    "            sys.stdout = old_stdout"
   ],
   "outputs": [],
   "metadata": {
    "collapsed": true
   }
  },
  {
   "cell_type": "code",
   "execution_count": null,
   "source": [
    "#This is final function to evaluate the performance of selected recommendation approach and the metric used here is RMSE\n",
    "#suppress_stdout function is used to suppress the print outputs of all the functions inside this function. It will only print \n",
    "#RMSE values\n",
    "def evaluateRS(ratings):\n",
    "    ids = ['User-based CF (cosine)','User-based CF (correlation)','Item-based CF (cosine)','Item-based CF (adjusted cosine)']\n",
    "    approach = widgets.Dropdown(options=ids, value=ids[0],description='Select Approach', width='500px')\n",
    "    n_users = ratings.shape[0]\n",
    "    n_items = ratings.shape[1]\n",
    "    prediction = np.zeros((n_users, n_items))\n",
    "    prediction= pd.DataFrame(prediction)\n",
    "    def on_change(change):\n",
    "        clear_output(wait=True)\n",
    "        with suppress_stdout():\n",
    "            if change['type'] == 'change' and change['name'] == 'value':            \n",
    "                if (approach.value == 'User-based CF (cosine)'):\n",
    "                    metric = 'cosine'\n",
    "                    for i in range(n_users):\n",
    "                        for j in range(n_items):\n",
    "                            prediction[i][j] = predict_userbased(i+1, j+1, ratings, metric)\n",
    "                elif (approach.value == 'User-based CF (correlation)')  :                       \n",
    "                    metric = 'correlation'               \n",
    "                    for i in range(n_users):\n",
    "                        for j in range(n_items):\n",
    "                            prediction[i][j] = predict_userbased(i+1, j+1, ratings, metric)\n",
    "                elif (approach.value == 'Item-based CF (cosine)'):\n",
    "                    for i in range(n_users):\n",
    "                        for j in range(n_items):\n",
    "                            prediction[i][j] = predict_userbased(i+1, j+1, ratings)\n",
    "                else:\n",
    "                    for i in range(n_users):\n",
    "                        for j in range(n_items):\n",
    "                            prediction[i][j] = predict_userbased(i+1, j+1, ratings)\n",
    "              \n",
    "        MSE = mean_squared_error(prediction, ratings)\n",
    "        RMSE = round(sqrt(MSE),3)\n",
    "        print(\"RMSE using {0} approach is: {1}\".format(approach.value,RMSE))\n",
    "              \n",
    "    approach.observe(on_change)\n",
    "    display(approach)"
   ],
   "outputs": [],
   "metadata": {
    "collapsed": true
   }
  },
  {
   "cell_type": "code",
   "execution_count": null,
   "source": [
    "evaluateRS(M)"
   ],
   "outputs": [
    {
     "output_type": "stream",
     "name": "stdout",
     "text": [
      "RMSE using Item-based CF (cosine) approach is: 2.804\n"
     ]
    }
   ],
   "metadata": {}
  },
  {
   "cell_type": "code",
   "execution_count": null,
   "source": [
    "evaluateRS(M)"
   ],
   "outputs": [
    {
     "output_type": "stream",
     "name": "stdout",
     "text": [
      "RMSE using Item-based CF (cosine) approach is: 2.804\n"
     ]
    }
   ],
   "metadata": {}
  },
  {
   "cell_type": "markdown",
   "source": [
    "**Thanks for reading this notebook**"
   ],
   "metadata": {}
  }
 ],
 "metadata": {
  "kernelspec": {
   "name": "python3",
   "display_name": "Python 3.8.5 64-bit ('pt1-env': conda)"
  },
  "language_info": {
   "name": "python",
   "version": "3.8.5",
   "mimetype": "text/x-python",
   "codemirror_mode": {
    "name": "ipython",
    "version": 3
   },
   "pygments_lexer": "ipython3",
   "nbconvert_exporter": "python",
   "file_extension": ".py"
  },
  "interpreter": {
   "hash": "199c1813e2780fefc14cf067b5eb0fe8de6966a97fd18758e99ed386c914c778"
  }
 },
 "nbformat": 4,
 "nbformat_minor": 2
}